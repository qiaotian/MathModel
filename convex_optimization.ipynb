{
 "cells": [
  {
   "cell_type": "markdown",
   "metadata": {},
   "source": [
    "# Quadratic Programming with Python and CVXOPT\n",
    "\n",
    "This guide assumes that you have already installed the Numpy and CVXOPT packages for your Python distribution. You can check if they are installed by importing them:\n",
    "\n",
    "\"import numpy\"\n",
    "\"import cvxopt\"\n",
    "\n",
    "Last us first review the standart form of a QP (following CVXOPT notation):"
   ]
  },
  {
   "cell_type": "markdown",
   "metadata": {},
   "source": [
    "## Solve a linear program"
   ]
  },
  {
   "cell_type": "code",
   "execution_count": 1,
   "metadata": {
    "collapsed": false
   },
   "outputs": [
    {
     "name": "stdout",
     "output_type": "stream",
     "text": [
      "     pcost       dcost       gap    pres   dres   k/t\n",
      " 0:  2.6471e+00 -7.0588e-01  2e+01  8e-01  2e+00  1e+00\n",
      " 1:  3.0726e+00  2.8437e+00  1e+00  1e-01  2e-01  3e-01\n",
      " 2:  2.4891e+00  2.4808e+00  1e-01  1e-02  2e-02  5e-02\n",
      " 3:  2.4999e+00  2.4998e+00  1e-03  1e-04  2e-04  5e-04\n",
      " 4:  2.5000e+00  2.5000e+00  1e-05  1e-06  2e-06  5e-06\n",
      " 5:  2.5000e+00  2.5000e+00  1e-07  1e-08  2e-08  5e-08\n",
      "Optimal solution found.\n"
     ]
    }
   ],
   "source": [
    "from cvxopt import matrix, solvers\n",
    "A = matrix([ [-1.0, -1.0, 0.0, 1.0], [1.0, -1.0, -1.0, -2.0] ])\n",
    "b = matrix([ 1.0, -2.0, 0.0, 4.0 ])\n",
    "c = matrix([ 2.0, 1.0 ])\n",
    "sol=solvers.lp(c,A,b)"
   ]
  },
  {
   "cell_type": "code",
   "execution_count": 3,
   "metadata": {
    "collapsed": false
   },
   "outputs": [
    {
     "name": "stdout",
     "output_type": "stream",
     "text": [
      "[ 5.00e-01]\n",
      "[ 1.50e+00]\n",
      "\n"
     ]
    }
   ],
   "source": [
    "print sol['x']"
   ]
  },
  {
   "cell_type": "markdown",
   "metadata": {},
   "source": [
    "## Solve a quardradic program"
   ]
  },
  {
   "cell_type": "code",
   "execution_count": 5,
   "metadata": {
    "collapsed": false
   },
   "outputs": [
    {
     "name": "stdout",
     "output_type": "stream",
     "text": [
      "     pcost       dcost       gap    pres   dres\n",
      " 0:  1.8889e+00  7.7778e-01  1e+00  3e-16  2e+00\n",
      " 1:  1.8769e+00  1.8320e+00  4e-02  2e-16  6e-02\n",
      " 2:  1.8750e+00  1.8739e+00  1e-03  1e-16  5e-04\n",
      " 3:  1.8750e+00  1.8750e+00  1e-05  1e-16  5e-06\n",
      " 4:  1.8750e+00  1.8750e+00  1e-07  3e-16  5e-08\n",
      "Optimal solution found.\n"
     ]
    }
   ],
   "source": [
    "from cvxopt import matrix, solvers\n",
    "Q = 2*matrix([ [2, .5], [.5, 1] ])\n",
    "p = matrix([1.0, 1.0])\n",
    "G = matrix([[-1.0,0.0],[0.0,-1.0]])\n",
    "h = matrix([0.0,0.0])\n",
    "A = matrix([1.0, 1.0], (1,2))\n",
    "b = matrix(1.0)\n",
    "sol=solvers.qp(Q, p, G, h, A, b)"
   ]
  },
  {
   "cell_type": "code",
   "execution_count": 6,
   "metadata": {
    "collapsed": false
   },
   "outputs": [
    {
     "name": "stdout",
     "output_type": "stream",
     "text": [
      "[ 2.50e-01]\n",
      "[ 7.50e-01]\n",
      "\n"
     ]
    }
   ],
   "source": [
    "print sol['x']"
   ]
  }
 ],
 "metadata": {
  "anaconda-cloud": {},
  "kernelspec": {
   "display_name": "Python [Root]",
   "language": "python",
   "name": "Python [Root]"
  },
  "language_info": {
   "codemirror_mode": {
    "name": "ipython",
    "version": 2
   },
   "file_extension": ".py",
   "mimetype": "text/x-python",
   "name": "python",
   "nbconvert_exporter": "python",
   "pygments_lexer": "ipython2",
   "version": "2.7.12"
  }
 },
 "nbformat": 4,
 "nbformat_minor": 0
}
