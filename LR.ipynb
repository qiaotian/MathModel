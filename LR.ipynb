{
 "cells": [
  {
   "cell_type": "code",
   "execution_count": 101,
   "metadata": {
    "collapsed": false
   },
   "outputs": [],
   "source": [
    "\"\"\" Writing my first Graduate Model test case.\n",
    "Author : QiaoTian\n",
    "Date : 16th Sep 2016\n",
    "Revised: 16th Sep 2014\n",
    "\n",
    "\"\"\" \n",
    "\n",
    "import pandas as pd\n",
    "import numpy as np\n",
    "import csv as csv\n",
    "import sklearn.ensemble as RandomForestClassifier\n",
    "\n",
    "# read the genotype data into genotype_df\n",
    "\"\"\"\n",
    "col_names = []\n",
    "with open('genotype.dat') as f:\n",
    "    row = f.readline()\n",
    "    #print(row)\n",
    "    col_names = np.array(row.split(' '))\n",
    "    print col_names.shape\n",
    "\n",
    "genotype_df = pd.read_csv('genotype.dat', header=0, names=col_names)\n",
    "pheno_df = pd.read_csv('phenotype.txt', header=None)\n",
    "multi_phenos_df = pd.read_csv('multi_phenos.txt', header=None)\n",
    "\n",
    "#print(len(train_df))\n",
    "#rint(len(pheno_df))\n",
    "#print(len(multi_phenos_df))\n",
    "\n",
    "train_df = np.column_stack((genotype_df, pheno_df))\n",
    "#print(genotype_df.shape)\n",
    "\"\"\"\n",
    "\n",
    "feature_cols = []\n",
    "with open('genotype.csv') as f:\n",
    "    firstline = f.readline()\n",
    "    feature_cols = np.array(row.split(' '))\n",
    "    assert(feature_cols.shape==(9445,))\n",
    "genotype_df = pd.read_csv('genotype.csv', header=0, names=feature_cols)\n",
    "assert(genotype_df.shape == (1000, 9445))\n",
    "pheno_df = pd.read_csv('phenotype.txt', header=None)\n",
    "assert(pheno_df.shape == (1000,1))\n",
    "multi_phenos_df = pd.read_csv('multi_phenos.txt', header=None)"
   ]
  },
  {
   "cell_type": "code",
   "execution_count": 157,
   "metadata": {
    "collapsed": false
   },
   "outputs": [
    {
     "name": "stdout",
     "output_type": "stream",
     "text": [
      "0      3\n",
      "1      2\n",
      "2      3\n",
      "3      3\n",
      "4      2\n",
      "5      2\n",
      "6      2\n",
      "7      3\n",
      "8      3\n",
      "9      3\n",
      "10     2\n",
      "11     1\n",
      "12     3\n",
      "13     3\n",
      "14     2\n",
      "15     3\n",
      "16     3\n",
      "17     3\n",
      "18     3\n",
      "19     2\n",
      "20     3\n",
      "21     3\n",
      "22     2\n",
      "23     3\n",
      "24     3\n",
      "25     2\n",
      "26     3\n",
      "27     3\n",
      "28     2\n",
      "29     3\n",
      "      ..\n",
      "970    2\n",
      "971    3\n",
      "972    3\n",
      "973    2\n",
      "974    3\n",
      "975    2\n",
      "976    2\n",
      "977    3\n",
      "978    2\n",
      "979    3\n",
      "980    3\n",
      "981    2\n",
      "982    3\n",
      "983    2\n",
      "984    2\n",
      "985    3\n",
      "986    3\n",
      "987    2\n",
      "988    3\n",
      "989    3\n",
      "990    3\n",
      "991    3\n",
      "992    2\n",
      "993    3\n",
      "994    2\n",
      "995    2\n",
      "996    3\n",
      "997    3\n",
      "998    3\n",
      "999    2\n",
      "Name: rs3094315, dtype: int64\n"
     ]
    }
   ],
   "source": [
    "# train data\n",
    "X = genotype_df\n",
    "y = pheno_df\n",
    "\n",
    "from sklearn.cross_validation import train_test_split\n",
    "X_train, X_test, y_train, y_test = train_test_split(X, y, random_state=1)"
   ]
  },
  {
   "cell_type": "code",
   "execution_count": 154,
   "metadata": {
    "collapsed": false
   },
   "outputs": [
    {
     "name": "stdout",
     "output_type": "stream",
     "text": [
      "(750, 9445)\n",
      "(750, 1)\n",
      "(250, 9445)\n",
      "(250, 1)\n"
     ]
    }
   ],
   "source": [
    "# default split is 75% for training and 25% for testing\n",
    "print X_train.shape\n",
    "print y_train.shape\n",
    "print X_test.shape\n",
    "print y_test.shape"
   ]
  },
  {
   "cell_type": "markdown",
   "metadata": {},
   "source": [
    "观察y与X的某些列的相关性"
   ]
  },
  {
   "cell_type": "code",
   "execution_count": 155,
   "metadata": {
    "collapsed": true
   },
   "outputs": [],
   "source": [
    "# conventional way to import seaborn\n",
    "import seaborn as sns\n",
    "\n",
    "# allow plots to appear within the notebook\n",
    "%matplotlib inline"
   ]
  },
  {
   "cell_type": "code",
   "execution_count": 163,
   "metadata": {
    "collapsed": false
   },
   "outputs": [
    {
     "data": {
      "image/png": "[encoded data removed]",
      "text/plain": [
       "<matplotlib.figure.Figure at 0x11eaa5d90>"
      ]
     },
     "metadata": {},
     "output_type": "display_data"
    }
   ],
   "source": [
    "# visualize the relationship between the features and the response using scatterplots\n",
    "#sns.pairplot(X.iloc[:,0:3], x_vars=feature_cols[0:3], y_vars='Pheno', size=7, aspect=0.7, kind='reg')\n",
    "\n",
    "import matplotlib.pyplot as plt\n",
    "\n",
    "plt.scatter(X.iloc[:,0], y, color='green', label='feature0')\n",
    "plt.scatter(X.iloc[:,1], y, color='red', label='feature1')\n",
    "plt.scatter(X.iloc[:,2], y, color='blue', label='feature1')\n",
    "plt.scatter(X.iloc[:,3], y, color='yellow', label='feature1')\n",
    "plt.scatter(X.iloc[:,4], y, color='black', label='feature1')\n",
    "plt.scatter(X.iloc[:,5], y, color='pink', label='feature1')\n",
    "plt.scatter(X.iloc[:,6], y, color='pink', label='feature1')\n",
    "plt.scatter(X.iloc[:,7], y, color='pink', label='feature1')\n",
    "plt.scatter(X.iloc[:,8], y, color='pink', label='feature1')\n",
    "plt.scatter(X.iloc[:,9], y, color='pink', label='feature1')\n",
    "plt.scatter(X.iloc[:,10], y, color='pink', label='feature1')\n",
    "plt.scatter(X.iloc[:,11], y, color='pink', label='feature1')\n",
    "plt.scatter(X.iloc[:,12], y, color='pink', label='feature1')\n",
    "#plt.ylim(0.0, 1e0)\n",
    "plt.ylabel('Pheno')\n",
    "plt.xlabel('feature')\n",
    "#plt.legend(loc=\"upper left\")\n",
    "plt.show()"
   ]
  },
  {
   "cell_type": "code",
   "execution_count": null,
   "metadata": {
    "collapsed": true
   },
   "outputs": [],
   "source": []
  },
  {
   "cell_type": "code",
   "execution_count": 93,
   "metadata": {
    "collapsed": false
   },
   "outputs": [
    {
     "data": {
      "text/plain": [
       "LinearRegression(copy_X=True, fit_intercept=True, n_jobs=1, normalize=False)"
      ]
     },
     "execution_count": 93,
     "metadata": {},
     "output_type": "execute_result"
    }
   ],
   "source": [
    "# Linear regression in scikit-learn\n",
    "# import model\n",
    "from sklearn.linear_model import LinearRegression\n",
    "\n",
    "# instantiate\n",
    "linreg = LinearRegression()\n",
    "\n",
    "# fit the model to training data (learn the coefficients)\n",
    "linreg.fit(X_train, y_train)"
   ]
  },
  {
   "cell_type": "code",
   "execution_count": 94,
   "metadata": {
    "collapsed": false
   },
   "outputs": [
    {
     "name": "stdout",
     "output_type": "stream",
     "text": [
      "[-2935.28669066]\n",
      "[[ 0.00201554 -0.00293234  0.00316156 ...,  0.00812316 -0.00536298\n",
      "   0.00268942]]\n"
     ]
    }
   ],
   "source": [
    "print linreg.intercept_ # 截距\n",
    "print linreg.coef_"
   ]
  },
  {
   "cell_type": "code",
   "execution_count": 95,
   "metadata": {
    "collapsed": false
   },
   "outputs": [
    {
     "data": {
      "text/plain": [
       "[('rs3094315', array([ 0.00201554, -0.00293234,  0.00316156, ...,  0.00812316,\n",
       "         -0.00536298,  0.00268942]))]"
      ]
     },
     "execution_count": 95,
     "metadata": {},
     "output_type": "execute_result"
    }
   ],
   "source": [
    "zip(feature_cols, linreg.coef_)"
   ]
  },
  {
   "cell_type": "code",
   "execution_count": 99,
   "metadata": {
    "collapsed": false
   },
   "outputs": [],
   "source": [
    "y_pred_class = linreg.predict(X_test)"
   ]
  },
  {
   "cell_type": "code",
   "execution_count": 100,
   "metadata": {
    "collapsed": false
   },
   "outputs": [
    {
     "name": "stdout",
     "output_type": "stream",
     "text": [
      "0.513580030706\n"
     ]
    }
   ],
   "source": [
    "# Mean Absolute Error(MAE)\n",
    "from sklearn import metrics\n",
    "print metrics.mean_absolute_error(y_test, y_pred_class)"
   ]
  }
 ],
 "metadata": {
  "kernelspec": {
   "display_name": "Python [Root]",
   "language": "python",
   "name": "Python [Root]"
  },
  "language_info": {
   "codemirror_mode": {
    "name": "ipython",
    "version": 2
   },
   "file_extension": ".py",
   "mimetype": "text/x-python",
   "name": "python",
   "nbconvert_exporter": "python",
   "pygments_lexer": "ipython2",
   "version": "2.7.12"
  }
 },
 "nbformat": 4,
 "nbformat_minor": 0
}
