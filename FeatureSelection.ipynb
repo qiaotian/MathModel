{
 "cells": [
  {
   "cell_type": "code",
   "execution_count": 7,
   "metadata": {
    "collapsed": false
   },
   "outputs": [],
   "source": [
    "\"\"\" Writing my first Graduate Model test case.\n",
    "Author : QiaoTian\n",
    "Date : 16th Sep 2016\n",
    "Revised: 16th Sep 2014\n",
    "\n",
    "\"\"\" \n",
    "\n",
    "import pandas as pd\n",
    "import numpy as np\n",
    "import csv as csv\n",
    "\n",
    "feature_cols = []\n",
    "with open('genotype.csv') as f:\n",
    "    firstline = f.readline()\n",
    "    feature_cols = np.array(firstline.split(','))\n",
    "    assert(feature_cols.shape==(9445,))\n",
    "genotype_df = pd.read_csv('genotype.csv', header=0, names=feature_cols)\n",
    "\n",
    "assert(genotype_df.shape == (1000, 9445))\n",
    "pheno_df = pd.read_csv('phenotype.txt', header=None)\n",
    "assert(pheno_df.shape == (1000,1))\n",
    "multi_phenos_df = pd.read_csv('multi_phenos.txt', header=None)\n",
    "\n",
    "# train data\n",
    "X = genotype_df # dataframe\n",
    "y = pheno_df    # dataframe\n",
    "\n",
    "from sklearn.cross_validation import train_test_split\n",
    "X_train, X_test, y_train, y_test = train_test_split(X, y, random_state=1)\n",
    "\n",
    "\"\"\"\n",
    "# default split is 75% for training and 25% for testing\n",
    "print X_train.shape\n",
    "print y_train.shape\n",
    "print X_test.shape\n",
    "print y_test.shape\n",
    "\"\"\"\n",
    "\n",
    "from sklearn.ensemble import RandomForestClassifier\n",
    "from sklearn import metrics\n",
    "\n",
    "X_train = X_train.as_matrix(feature_cols) # numpy.array\n",
    "y_train = y_train.as_matrix()             # numpy.array\n",
    "X_test = X_test.as_matrix(feature_cols)   # numpy.array\n",
    "y_test = y_test.as_matrix()               # numpy.array"
   ]
  },
  {
   "cell_type": "markdown",
   "metadata": {},
   "source": [
    "# 基于互信息筛选碱基特征"
   ]
  },
  {
   "cell_type": "code",
   "execution_count": null,
   "metadata": {
    "collapsed": true
   },
   "outputs": [],
   "source": [
    "mutual_info = []\n",
    "info = 0\n",
    "for ftr in ftrs:\n",
    "    for ix in range():\n",
    "        for iy in range():\n",
    "            info = info + pxy*log(pxy/px/py)\n",
    "    mutal_info.append(info)\n",
    "mutual_info = np.array(mutual_info)"
   ]
  },
  {
   "cell_type": "markdown",
   "metadata": {},
   "source": [
    "# 计算所有9445个特征的Var"
   ]
  },
  {
   "cell_type": "code",
   "execution_count": 2,
   "metadata": {
    "collapsed": false
   },
   "outputs": [
    {
     "name": "stdout",
     "output_type": "stream",
     "text": [
      "(9445,)\n"
     ]
    }
   ],
   "source": [
    "# transform X and y to numpy array\n",
    "# X = X.as_matrix(feature_cols)\n",
    "# variances = np.array([])\n",
    "# for idx in range(len(feature_cols)):\n",
    "#    print idx\n",
    "#    variances = np.var(X, axis=0)\n",
    "# print variances.shape"
   ]
  },
  {
   "cell_type": "markdown",
   "metadata": {},
   "source": [
    "# 绘制所有Var的大小"
   ]
  },
  {
   "cell_type": "code",
   "execution_count": 6,
   "metadata": {
    "collapsed": false
   },
   "outputs": [],
   "source": [
    "import matplotlib.pyplot as plt\n",
    "\n",
    "x_vals = np.arange(len(feature_cols))\n",
    "plt.scatter(x_vals, variances, color='green', label='Vars')\n",
    "plt.xlabel('feature no.')\n",
    "plt.ylabel('variance')\n",
    "plt.show()"
   ]
  }
 ],
 "metadata": {
  "anaconda-cloud": {},
  "kernelspec": {
   "display_name": "Python [Root]",
   "language": "python",
   "name": "Python [Root]"
  },
  "language_info": {
   "codemirror_mode": {
    "name": "ipython",
    "version": 2
   },
   "file_extension": ".py",
   "mimetype": "text/x-python",
   "name": "python",
   "nbconvert_exporter": "python",
   "pygments_lexer": "ipython2",
   "version": "2.7.12"
  }
 },
 "nbformat": 4,
 "nbformat_minor": 0
}
