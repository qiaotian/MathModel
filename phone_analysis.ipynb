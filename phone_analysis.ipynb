{
 "cells": [
  {
   "cell_type": "code",
   "execution_count": 1,
   "metadata": {
    "collapsed": false
   },
   "outputs": [],
   "source": [
    "import pandas as pd\n",
    "import numpy as np\n",
    "import matplotlib.pyplot as plt\n",
    "from matplotlib.pyplot import savefig\n",
    "from sklearn.cross_validation import train_test_split\n",
    "from sklearn.cross_validation import KFold\n",
    "from multiprocessing import Pool\n",
    "\n",
    "genotype = pd.read_csv(\"genotype.csv\")\n",
    "genotype_data = genotype.values\n",
    "\n",
    "lables_list = []\n",
    "with open(\"phenotype.txt\", mode = \"r\") as f:\n",
    "    for line in f.readlines():\n",
    "        lables_list.append(int(line.strip()))\n",
    "        \n",
    "lables_arr = np.array(lables_list)"
   ]
  },
  {
   "cell_type": "code",
   "execution_count": 3,
   "metadata": {
    "collapsed": false
   },
   "outputs": [],
   "source": [
    "def disease_statistic(cur_feature_ind):\n",
    "    cur_feature = genotype_data[:,cur_feature_ind]\n",
    "    disease_dict = {}\n",
    "    for i in xrange(1,4):\n",
    "        ind_arr1 = np.where(cur_feature==i)[0]\n",
    "        positive_num = len(np.where(lables_arr[ind_arr1]==1)[0])\n",
    "        negtive_num = len(ind_arr1)-positive_num\n",
    "        disease_dict[i] = [positive_num, negtive_num]\n",
    "    return disease_dict\n",
    " \n",
    "def disease_statistic_plot(disease_dict, cur_feature_ind):\n",
    "    men1 = []\n",
    "    men2 = []\n",
    "    for i in xrange(1,4):\n",
    "        cur_item = disease_dict[i]\n",
    "        men2.append(cur_item[0])\n",
    "        men1.append(sum(cur_item))\n",
    "        \n",
    "    men1 = tuple(men1)\n",
    "    men2 = tuple(men2)\n",
    "    \n",
    "    ind = np.arange(3) + .15\n",
    "    width = 0.40\n",
    "    fig, ax = plt.subplots()\n",
    "    rects1 = ax.bar(ind, men1, width, color='g') \n",
    "    rects2 = ax.bar(ind, men2, width, color='r')\n",
    "    \n",
    "    ax.set_xticks(ind+width-0.2)\n",
    "    ax.set_xticklabels(('1', '2', '3'))\n",
    "    plt.title('SNP = ' + str(cur_feature_ind))\n",
    "    #plt.show()\n",
    "    savefig('/Users/qiaotian/Desktop/unselected/SNP'+str(cur_feature_ind)+'.jpg', dpi=None)  \n",
    "    \n",
    "selected = np.array([1791, 8379,   79, 8588, 1540,\n",
    "                      961, 3753, 3587, 4525, 5936, \n",
    "                     7961, 8138, 1234, 6377, 1923, \n",
    "                     3572, 3306, 3340, 4886, 5224, \n",
    "                     6970, 9277, 1226, 3816, 3397, \n",
    "                     5720, 7381, 6784, 9163, 6097,\n",
    "                     1381, 7414, 3926, 2982,  592, \n",
    "                     5368, 8355, 1974, 5904, 2091, \n",
    "                     4254, 6759, 7622, 8796, 3384, \n",
    "                     7302, 7672, 4049, 8995, 5157, \n",
    "                     7935, 5273, 7365, 3077, 5906])\n",
    "\n",
    "# cur_feature_ind = 1\n",
    "#for i in range(len(selected)):\n",
    "#    disease_dict = disease_statistic(selected[i])\n",
    "#    disease_statistic_plot(disease_dict, selected[i])\n",
    "\n",
    "for i in range(9445):\n",
    "    if i%10 == 1:\n",
    "        disease_dict = disease_statistic(i)\n",
    "        disease_statistic_plot(disease_dict, i)"
   ]
  }
 ],
 "metadata": {
  "kernelspec": {
   "display_name": "Python [Root]",
   "language": "python",
   "name": "Python [Root]"
  },
  "language_info": {
   "codemirror_mode": {
    "name": "ipython",
    "version": 2
   },
   "file_extension": ".py",
   "mimetype": "text/x-python",
   "name": "python",
   "nbconvert_exporter": "python",
   "pygments_lexer": "ipython2",
   "version": "2.7.12"
  }
 },
 "nbformat": 4,
 "nbformat_minor": 0
}
