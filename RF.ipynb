{
 "cells": [
  {
   "cell_type": "code",
   "execution_count": 1,
   "metadata": {
    "collapsed": false
   },
   "outputs": [],
   "source": [
    "\"\"\" Writing my first Graduate Model test case.\n",
    "Author : QiaoTian\n",
    "Date : 16th Sep 2016\n",
    "Revised: 16th Sep 2014\n",
    "\n",
    "\"\"\" \n",
    "\n",
    "import pandas as pd\n",
    "import numpy as np\n",
    "import csv as csv\n",
    "\n",
    "feature_cols = []\n",
    "with open('genotype.csv') as f:\n",
    "    firstline = f.readline()\n",
    "    feature_cols = np.array(firstline.split(','))\n",
    "    assert(feature_cols.shape==(9445,))\n",
    "genotype_df = pd.read_csv('genotype.csv', header=0, names=feature_cols)\n",
    "\n",
    "assert(genotype_df.shape == (1000, 9445))\n",
    "pheno_df = pd.read_csv('phenotype.txt', header=None)\n",
    "assert(pheno_df.shape == (1000,1))\n",
    "multi_phenos_df = pd.read_csv('multi_phenos.txt', header=None)\n",
    "\n",
    "# train data\n",
    "X = genotype_df\n",
    "y = pheno_df\n",
    "\n",
    "from sklearn.cross_validation import train_test_split\n",
    "X_train, X_test, y_train, y_test = train_test_split(X, y, random_state=1)\n",
    "\n",
    "\"\"\"\n",
    "# default split is 75% for training and 25% for testing\n",
    "print X_train.shape\n",
    "print y_train.shape\n",
    "print X_test.shape\n",
    "print y_test.shape\n",
    "\"\"\"\n",
    "\n",
    "from sklearn.ensemble import RandomForestClassifier\n",
    "from sklearn import metrics\n",
    "\n",
    "X_train = X_train.as_matrix(feature_cols)\n",
    "y_train = y_train.as_matrix()\n",
    "X_test = X_test.as_matrix(feature_cols)\n",
    "y_test = y_test.as_matrix()"
   ]
  },
  {
   "cell_type": "markdown",
   "metadata": {},
   "source": [
    "# 找到最小n_estimator"
   ]
  },
  {
   "cell_type": "code",
   "execution_count": 2,
   "metadata": {
    "collapsed": false
   },
   "outputs": [
    {
     "name": "stdout",
     "output_type": "stream",
     "text": [
      "(299,)\n"
     ]
    }
   ],
   "source": [
    "x_vals = np.arange(1,300)\n",
    "y_vals = []\n",
    "for n_est in x_vals:\n",
    "    rf = RandomForestClassifier(n_estimators=n_est, max_depth = 5) # initialize\n",
    "    rf.fit(X_train, y_train.ravel()) # fit the data to algorithm\n",
    "    y_pred = rf.predict(X_test)\n",
    "    error = metrics.mean_absolute_error(y_test, y_pred)\n",
    "    y_vals.append(error)\n",
    "y_vals = np.array(y_vals)\n",
    "print y_vals.shape"
   ]
  },
  {
   "cell_type": "markdown",
   "metadata": {},
   "source": [
    "# 测试最小n_estimator"
   ]
  },
  {
   "cell_type": "code",
   "execution_count": 27,
   "metadata": {
    "collapsed": false
   },
   "outputs": [
    {
     "name": "stdout",
     "output_type": "stream",
     "text": [
      "0.488\n"
     ]
    }
   ],
   "source": [
    "rf = RandomForestClassifier(n_estimators=, max_depth = 5) # initialize\n",
    "rf.fit(X_train, y_train.ravel()) # fit the data to algorithm\n",
    "# Mean Absolute Error(MAE)\n",
    "y_pred = rf.predict(X_test)\n",
    "print metrics.mean_absolute_error(y_test, y_pred)"
   ]
  },
  {
   "cell_type": "markdown",
   "metadata": {},
   "source": [
    "# 绘图"
   ]
  },
  {
   "cell_type": "code",
   "execution_count": 25,
   "metadata": {
    "collapsed": false
   },
   "outputs": [
    {
     "name": "stdout",
     "output_type": "stream",
     "text": [
      "59\n"
     ]
    }
   ],
   "source": [
    "import matplotlib.pyplot as plt\n",
    "\n",
    "print np.argmin(y_vals)\n",
    "plt.plot(x_vals, y_vals, color='green', label='feature0')\n",
    "plt.xlabel('n_estimators')\n",
    "plt.ylabel('error')\n",
    "plt.show()"
   ]
  }
 ],
 "metadata": {
  "anaconda-cloud": {},
  "kernelspec": {
   "display_name": "Python [Root]",
   "language": "python",
   "name": "Python [Root]"
  },
  "language_info": {
   "codemirror_mode": {
    "name": "ipython",
    "version": 2
   },
   "file_extension": ".py",
   "mimetype": "text/x-python",
   "name": "python",
   "nbconvert_exporter": "python",
   "pygments_lexer": "ipython2",
   "version": "2.7.12"
  }
 },
 "nbformat": 4,
 "nbformat_minor": 0
}
