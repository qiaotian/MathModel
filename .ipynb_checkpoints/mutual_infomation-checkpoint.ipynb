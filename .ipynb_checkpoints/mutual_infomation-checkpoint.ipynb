{
 "cells": [
  {
   "cell_type": "code",
   "execution_count": 1,
   "metadata": {
    "collapsed": true
   },
   "outputs": [],
   "source": [
    "import pandas as pd\n",
    "import numpy as np\n",
    "from sklearn.ensemble import RandomForestClassifier\n",
    "from sklearn import metrics\n",
    "from sklearn.feature_selection import SelectKBest\n",
    "from sklearn.feature_selection import chi2\n",
    "from minepy import MINE\n",
    "from scipy.stats import pearsonr\n",
    "from sklearn.cross_validation import train_test_split\n",
    "from sklearn.cross_validation import cross_val_score\n",
    "\n",
    "feature_cols = []\n",
    "with open('genotype.csv') as f:\n",
    "    firstline = f.readline()\n",
    "    feature_cols = np.array(firstline.split(','))\n",
    "\n",
    "genotype_df         = pd.read_csv('genotype.csv', header=0, names=feature_cols)\n",
    "pheno_df            = pd.read_csv('phenotype.txt', header=None)\n",
    "multi_phenos_df     = pd.read_csv('multi_phenos.txt', header=None)\n",
    "\n",
    "# train data\n",
    "train_df = genotype_df\n",
    "label_df = pheno_df\n",
    "\n",
    "\n",
    "\n",
    "K = 80 # feature number\n",
    "train = train_df.as_matrix(feature_cols)\n",
    "label = label_df.as_matrix().ravel()\n",
    "\n",
    "def mic(x, y):\n",
    "    m = MINE()\n",
    "    m.compute_score(x, y)\n",
    "    return (m.mic(), 0.5)\n",
    "train = SelectKBest(lambda X, Y: np.array(map(lambda x:mic(x, Y), X.T)).T, k=K).fit_transform(train, label)\n",
    "\n",
    "X_train, X_test, y_train, y_test = train_test_split(train, label, random_state=0, test_size=0.2)"
   ]
  },
  {
   "cell_type": "code",
   "execution_count": 2,
   "metadata": {
    "collapsed": false
   },
   "outputs": [
    {
     "name": "stdout",
     "output_type": "stream",
     "text": [
      "0.85875\n",
      "21\n",
      "0.67\n",
      "40\n"
     ]
    },
    {
     "name": "stderr",
     "output_type": "stream",
     "text": [
      "/usr/local/anaconda2/lib/python2.7/site-packages/matplotlib/legend.py:633: UserWarning: Legend does not support [<matplotlib.lines.Line2D object at 0x117da4d10>] instances.\n",
      "A proxy artist may be used instead.\n",
      "See: http://matplotlib.org/users/legend_guide.html#using-proxy-artist\n",
      "  \"#using-proxy-artist\".format(orig_handle)\n",
      "/usr/local/anaconda2/lib/python2.7/site-packages/matplotlib/legend.py:633: UserWarning: Legend does not support [<matplotlib.lines.Line2D object at 0x118d29210>] instances.\n",
      "A proxy artist may be used instead.\n",
      "See: http://matplotlib.org/users/legend_guide.html#using-proxy-artist\n",
      "  \"#using-proxy-artist\".format(orig_handle)\n"
     ]
    }
   ],
   "source": [
    "\"\"\" random foreset \"\"\"\n",
    "repeat = range(50)\n",
    "accuracy_in_sample = []\n",
    "accuracy_out_sample = []\n",
    "#for n_est in x_vals:\n",
    "for iter in repeat: # run 50 times\n",
    "    #rf = RandomForestClassifier(n_estimators=n_est, max_depth = 5) # initialize\n",
    "    rf = RandomForestClassifier(bootstrap=True, class_weight=None, criterion='gini',\n",
    "                                max_depth=5, max_features='auto', max_leaf_nodes=None,\n",
    "                                min_samples_leaf=10, min_samples_split=2,\n",
    "                                min_weight_fraction_leaf=0.0, n_estimators=200, n_jobs=1,\n",
    "                                oob_score=False, random_state=None, verbose=0,\n",
    "                                warm_start=False)\n",
    "    rf.fit(X_train, y_train.ravel())        # fit the data to algorithm\n",
    "    #y_train_pred = rf.predict(X_train_new)      # apply model to train data to get the error in sample\n",
    "    #y_test_pred = rf.predict(X_test_new)        # apply model to test data to get the error out of sample\n",
    "    #error_in.append(metrics.mean_absolute_error(y_train_pred, y_train))\n",
    "    #error_out.append(metrics.mean_absolute_error(y_test_pred, y_test))\n",
    "    accuracy_in_sample.append(rf.score(X_train, y_train))\n",
    "    accuracy_out_sample.append(rf.score(X_test, y_test))\n",
    "\n",
    "accuracy_in_sample  = np.array(accuracy_in_sample)\n",
    "accuracy_out_sample = np.array(accuracy_out_sample)\n",
    "\n",
    "print np.min(accuracy_in_sample)\n",
    "print np.argmin(accuracy_in_sample)\n",
    "print np.min(accuracy_out_sample)\n",
    "print np.argmin(accuracy_out_sample)\n",
    "\n",
    "\n",
    "import matplotlib.pyplot as plt\n",
    "plot1 = plt.plot(repeat, accuracy_in_sample, color='green', label='Accuracy of in-sample')\n",
    "plot2 = plt.plot(repeat, accuracy_out_sample, color='red', label='Accuracy of out-sample')\n",
    "plt.xlabel('n_estimators = 200, number of features is ' + str(K))\n",
    "plt.ylabel('Accuracy of training and testing')\n",
    "plt.legend([plot1, plot2], (\"training accuracy\", \"test accuracy\"))# make legend\n",
    "plt.show()"
   ]
  }
 ],
 "metadata": {
  "anaconda-cloud": {},
  "kernelspec": {
   "display_name": "Python [Root]",
   "language": "python",
   "name": "Python [Root]"
  },
  "language_info": {
   "codemirror_mode": {
    "name": "ipython",
    "version": 2
   },
   "file_extension": ".py",
   "mimetype": "text/x-python",
   "name": "python",
   "nbconvert_exporter": "python",
   "pygments_lexer": "ipython2",
   "version": "2.7.12"
  }
 },
 "nbformat": 4,
 "nbformat_minor": 0
}
